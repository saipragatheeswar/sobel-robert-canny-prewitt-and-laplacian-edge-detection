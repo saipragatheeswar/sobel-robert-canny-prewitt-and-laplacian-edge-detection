{
 "cells": [
  {
   "cell_type": "code",
   "execution_count": 1,
   "id": "f8c8123b",
   "metadata": {},
   "outputs": [],
   "source": [
    "#importing libraries\n",
    "import cv2\n",
    "import numpy as np\n",
    "from scipy import ndimage\n",
    "\n",
    "\n",
    "img = cv2.imread('shinchan.jpg')\n",
    "gray = cv2.cvtColor(img, cv2.COLOR_BGR2GRAY)\n",
    "img_gaussian = cv2.GaussianBlur(gray,(3,3),0)\n",
    "\n",
    "cv2.imshow(\"Original Image\", img)\n",
    "cv2.waitKey(0)\n",
    "cv2.destroyAllWindows()"
   ]
  },
  {
   "cell_type": "code",
   "execution_count": 2,
   "id": "ef495ac9",
   "metadata": {},
   "outputs": [],
   "source": [
    "#canny\n",
    "img_canny = cv2.Canny(img,100,200)\n",
    "\n",
    "cv2.imshow(\"Canny\", img_canny)\n",
    "cv2.waitKey(0)\n",
    "cv2.destroyAllWindows()"
   ]
  },
  {
   "cell_type": "code",
   "execution_count": 3,
   "id": "9b7bc42a",
   "metadata": {},
   "outputs": [],
   "source": [
    "#sobel\n",
    "img_sobelx = cv2.Sobel(img_gaussian,cv2.CV_8U,1,0,ksize=5)\n",
    "img_sobely = cv2.Sobel(img_gaussian,cv2.CV_8U,0,1,ksize=5)\n",
    "img_sobel = img_sobelx + img_sobely\n",
    "\n",
    "cv2.imshow(\"Sobel X\", img_sobelx)\n",
    "cv2.imshow(\"Sobel Y\", img_sobely)\n",
    "cv2.imshow(\"Sobel\", img_sobel)\n",
    "cv2.waitKey(0)\n",
    "cv2.destroyAllWindows()"
   ]
  },
  {
   "cell_type": "code",
   "execution_count": 4,
   "id": "cda6d26a",
   "metadata": {},
   "outputs": [],
   "source": [
    "#prewitt\n",
    "kernelx = np.array([[1,1,1],[0,0,0],[-1,-1,-1]])\n",
    "kernely = np.array([[-1,0,1],[-1,0,1],[-1,0,1]])\n",
    "img_prewittx = cv2.filter2D(img_gaussian, -1, kernelx)\n",
    "img_prewitty = cv2.filter2D(img_gaussian, -1, kernely)\n",
    "\n",
    "cv2.imshow(\"Prewitt X\", img_prewittx)\n",
    "cv2.imshow(\"Prewitt Y\", img_prewitty)\n",
    "cv2.imshow(\"Prewitt\", img_prewittx + img_prewitty)\n",
    "cv2.waitKey(0)\n",
    "cv2.destroyAllWindows()"
   ]
  },
  {
   "cell_type": "code",
   "execution_count": 5,
   "id": "9f9d1a6b",
   "metadata": {},
   "outputs": [],
   "source": [
    "#roberts\n",
    "roberts_cross_v = np.array( [[1, 0 ],\n",
    "                             [0,-1 ]])\n",
    "  \n",
    "roberts_cross_h = np.array( [[ 0, 1 ],\n",
    "                             [ -1, 0 ]])\n",
    "\n",
    " \n",
    "img = cv2.imread(\"shinchan.jpg\",0).astype('float64') \n",
    "img/=255.0\n",
    "vertical = ndimage.convolve( img, roberts_cross_v )\n",
    "horizontal = ndimage.convolve( img, roberts_cross_h )\n",
    "  \n",
    "edged_img = np.sqrt( np.square(horizontal) + np.square(vertical))\n",
    "edged_img*=255\n",
    "cv2.imshow(\"roberts\",edged_img)\n",
    "cv2.waitKey(0)\n",
    "cv2.destroyAllWindows()\n"
   ]
  },
  {
   "cell_type": "code",
   "execution_count": 6,
   "id": "25821b55",
   "metadata": {},
   "outputs": [],
   "source": [
    "#laplacian\n",
    "laplacian = cv2.Laplacian(img, ddepth= cv2.CV_16S, ksize=7)\n",
    "abs_laplacian = cv2.convertScaleAbs(laplacian)\n",
    "cv2.imshow('laplacian', abs_laplacian)\n",
    "cv2.waitKey(0)\n",
    "cv2.destroyAllWindows()"
   ]
  },
  {
   "cell_type": "code",
   "execution_count": null,
   "id": "5d5317ab",
   "metadata": {},
   "outputs": [],
   "source": []
  }
 ],
 "metadata": {
  "kernelspec": {
   "display_name": "Python 3 (ipykernel)",
   "language": "python",
   "name": "python3"
  },
  "language_info": {
   "codemirror_mode": {
    "name": "ipython",
    "version": 3
   },
   "file_extension": ".py",
   "mimetype": "text/x-python",
   "name": "python",
   "nbconvert_exporter": "python",
   "pygments_lexer": "ipython3",
   "version": "3.9.13"
  }
 },
 "nbformat": 4,
 "nbformat_minor": 5
}
